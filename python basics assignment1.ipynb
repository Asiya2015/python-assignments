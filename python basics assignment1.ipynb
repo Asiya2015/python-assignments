{
 "cells": [
  {
   "cell_type": "code",
   "execution_count": 3,
   "id": "d4afdfdd-8e16-4d2f-b677-589e3b37742c",
   "metadata": {},
   "outputs": [],
   "source": [
    "x=10"
   ]
  },
  {
   "cell_type": "code",
   "execution_count": 4,
   "id": "06dc41bb-ef9a-4840-82ce-79ccc1876680",
   "metadata": {},
   "outputs": [],
   "source": [
    "y=20"
   ]
  },
  {
   "cell_type": "code",
   "execution_count": 5,
   "id": "ce8c1a61-66fa-4aea-93de-6cbbdc5f2691",
   "metadata": {},
   "outputs": [
    {
     "data": {
      "text/plain": [
       "30"
      ]
     },
     "execution_count": 5,
     "metadata": {},
     "output_type": "execute_result"
    }
   ],
   "source": [
    "x+y"
   ]
  },
  {
   "cell_type": "code",
   "execution_count": 6,
   "id": "5d02ded2-36d3-473b-9224-bd56fa9aeb15",
   "metadata": {},
   "outputs": [
    {
     "data": {
      "text/plain": [
       "30"
      ]
     },
     "execution_count": 6,
     "metadata": {},
     "output_type": "execute_result"
    }
   ],
   "source": [
    "y+x"
   ]
  },
  {
   "cell_type": "code",
   "execution_count": 7,
   "id": "2685c03e-bccc-4dd2-a6eb-df11ff7dbf83",
   "metadata": {},
   "outputs": [],
   "source": [
    "len=20"
   ]
  },
  {
   "cell_type": "code",
   "execution_count": 8,
   "id": "b3094514-f70b-4db6-92c4-8749fed5dbc6",
   "metadata": {},
   "outputs": [],
   "source": [
    "wid=60"
   ]
  },
  {
   "cell_type": "code",
   "execution_count": 11,
   "id": "1bd6d634-697a-4a24-b43c-b80ee3d3867c",
   "metadata": {},
   "outputs": [
    {
     "data": {
      "text/plain": [
       "140"
      ]
     },
     "execution_count": 11,
     "metadata": {},
     "output_type": "execute_result"
    }
   ],
   "source": [
    "len+wid*2"
   ]
  },
  {
   "cell_type": "code",
   "execution_count": null,
   "id": "c23f8e88-a9d0-4a2f-980e-a0740b2cfc4e",
   "metadata": {},
   "outputs": [],
   "source": []
  }
 ],
 "metadata": {
  "kernelspec": {
   "display_name": "Python 3 (ipykernel)",
   "language": "python",
   "name": "python3"
  },
  "language_info": {
   "codemirror_mode": {
    "name": "ipython",
    "version": 3
   },
   "file_extension": ".py",
   "mimetype": "text/x-python",
   "name": "python",
   "nbconvert_exporter": "python",
   "pygments_lexer": "ipython3",
   "version": "3.10.8"
  }
 },
 "nbformat": 4,
 "nbformat_minor": 5
}
